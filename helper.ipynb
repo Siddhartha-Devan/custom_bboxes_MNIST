{
 "cells": [
  {
   "cell_type": "code",
   "execution_count": 5,
   "metadata": {},
   "outputs": [],
   "source": [
    "import tensorflow as tf\n",
    "import cv2\n",
    "import pandas as pd\n",
    "import numpy as np\n",
    "import seaborn as sns\n",
    "import matplotlib.pyplot as plt\n",
    "from tensorflow.keras.layers import Layer\n",
    "from tensorflow.keras import Model\n",
    "import os\n",
    "from PIL import Image"
   ]
  },
  {
   "cell_type": "code",
   "execution_count": 2,
   "metadata": {},
   "outputs": [
    {
     "name": "stdout",
     "output_type": "stream",
     "text": [
      "Combined data shape: (70000, 28, 28)\n",
      "Combined labels shape: (70000,)\n"
     ]
    }
   ],
   "source": [
    "(x_train, y_train), (x_test, y_test) = tf.keras.datasets.mnist.load_data()\n",
    "\n",
    "# Combine the train and test data\n",
    "x_all = tf.concat([x_train, x_test], axis=0)\n",
    "y_all = tf.concat([y_train, y_test], axis=0)\n",
    "\n",
    "# Check the shape of the combined dataset\n",
    "print(\"Combined data shape:\", x_all.shape)\n",
    "print(\"Combined labels shape:\", y_all.shape)"
   ]
  },
  {
   "cell_type": "code",
   "execution_count": 9,
   "metadata": {},
   "outputs": [],
   "source": [
    "data_dir_path = r'C:\\Users\\Siddhartha Devan V\\jupyter ml\\mnist_bounding_boxes\\mnist_images'\n",
    "\n"
   ]
  },
  {
   "cell_type": "code",
   "execution_count": 17,
   "metadata": {},
   "outputs": [
    {
     "name": "stdout",
     "output_type": "stream",
     "text": [
      "MNIST images saved in directories according to labels.\n"
     ]
    }
   ],
   "source": [
    "for i in range(x_all.shape[0]):\n",
    "    label = y_all[i]\n",
    "    \n",
    "    # Create directory for each label if it doesn't exist\n",
    "    label_dir = os.path.join('mnist_images', str(label))\n",
    "    os.makedirs(label_dir, exist_ok=True)\n",
    "    \n",
    "    # Save image to respective label folder\n",
    "    img = Image.fromarray(np.array(x_all[i]))\n",
    "    img.save(os.path.join(label_dir, f\"{label}_{i}.png\"))\n",
    "\n",
    "print(\"MNIST images saved in directories according to labels.\")\n"
   ]
  },
  {
   "cell_type": "code",
   "execution_count": null,
   "metadata": {},
   "outputs": [],
   "source": []
  },
  {
   "cell_type": "code",
   "execution_count": null,
   "metadata": {},
   "outputs": [],
   "source": []
  },
  {
   "cell_type": "code",
   "execution_count": null,
   "metadata": {},
   "outputs": [],
   "source": [
    "\n"
   ]
  },
  {
   "cell_type": "code",
   "execution_count": null,
   "metadata": {},
   "outputs": [],
   "source": []
  },
  {
   "cell_type": "code",
   "execution_count": null,
   "metadata": {},
   "outputs": [],
   "source": []
  },
  {
   "cell_type": "code",
   "execution_count": null,
   "metadata": {},
   "outputs": [],
   "source": []
  }
 ],
 "metadata": {
  "kernelspec": {
   "display_name": "fcc-tf",
   "language": "python",
   "name": "python3"
  },
  "language_info": {
   "codemirror_mode": {
    "name": "ipython",
    "version": 3
   },
   "file_extension": ".py",
   "mimetype": "text/x-python",
   "name": "python",
   "nbconvert_exporter": "python",
   "pygments_lexer": "ipython3",
   "version": "3.10.15"
  }
 },
 "nbformat": 4,
 "nbformat_minor": 2
}
