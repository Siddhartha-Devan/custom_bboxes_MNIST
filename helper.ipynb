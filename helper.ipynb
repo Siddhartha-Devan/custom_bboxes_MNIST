{
 "cells": [
  {
   "cell_type": "code",
   "execution_count": 1,
   "metadata": {},
   "outputs": [],
   "source": [
    "import tensorflow as tf\n",
    "import cv2\n",
    "import pandas as pd\n",
    "import numpy as np\n",
    "import seaborn as sns\n",
    "import matplotlib.pyplot as plt\n",
    "from tensorflow.keras.layers import Layer\n",
    "from tensorflow.keras import Model\n",
    "import os\n",
    "from PIL import Image\n",
    "import random"
   ]
  },
  {
   "cell_type": "code",
   "execution_count": 2,
   "metadata": {},
   "outputs": [
    {
     "data": {
      "text/plain": [
       "['0', '1', '2', '3', '4', '5', '6', '7', '8', '9']"
      ]
     },
     "execution_count": 2,
     "metadata": {},
     "output_type": "execute_result"
    }
   ],
   "source": [
    "dataset_path = r'C:\\Users\\Siddhartha Devan V\\Downloads\\datasets\\mnist_images'\n",
    "os.listdir(dataset_path)"
   ]
  },
  {
   "cell_type": "code",
   "execution_count": 3,
   "metadata": {},
   "outputs": [
    {
     "name": "stdout",
     "output_type": "stream",
     "text": [
      "(28, 28, 3)\n"
     ]
    },
    {
     "data": {
      "image/png": "[encoded data removed]",
      "text/plain": [
       "<Figure size 640x480 with 1 Axes>"
      ]
     },
     "metadata": {},
     "output_type": "display_data"
    }
   ],
   "source": [
    "img = cv2.imread(r\"C:\\Users\\Siddhartha Devan V\\Downloads\\datasets\\mnist_images\\0\\0_260.png\")\n",
    "plt.imshow(img)\n",
    "print(img.shape)"
   ]
  },
  {
   "cell_type": "code",
   "execution_count": 17,
   "metadata": {},
   "outputs": [],
   "source": [
    "(x_train, y_train), (x_test, y_test) = tf.keras.datasets.mnist.load_data()\n",
    "\n",
    "# Combine training and test data\n",
    "x_all = np.concatenate([x_train, x_test], axis=0)\n",
    "y_all = np.concatenate([y_train, y_test], axis=0)\n"
   ]
  },
  {
   "cell_type": "code",
   "execution_count": 50,
   "metadata": {},
   "outputs": [],
   "source": [
    "def img_creater(img_gr):\n",
    "    struct = np.zeros((70,70))\n",
    "\n",
    "    adder = random.randint(0, 42)\n",
    "\n",
    "    for i in range(28):\n",
    "        for j in range(28):\n",
    "            struct[adder+i][adder+j] += img_gr[i][j]\n",
    "\n",
    "    height, width = (28,28)\n",
    "    x_min, x_max = (adder, adder+28)\n",
    "    y_min, y_max = (adder, adder+28)\n",
    "\n",
    "    return struct, [0, height, width, x_min, x_max, y_min, y_max]\n",
    "    "
   ]
  },
  {
   "cell_type": "code",
   "execution_count": null,
   "metadata": {},
   "outputs": [],
   "source": [
    "data_frame = pd.DataFrame(columns=['path', 'height', 'width', 'x_min', 'x_max', 'y_min', 'y_max'])\n",
    "target_path = r'C:\\Users\\Siddhartha Devan V\\jupyter ml\\mnist_bounding_boxes\\mnist_img_with_bb'\n",
    "\n",
    "for i in range(x_all.shape[0]):\n",
    "    label = y_all[i]\n",
    "\n",
    "    l_dir = os.path.join(target_path, str(label))\n",
    "    os.makedirs(l_dir, exist_ok=True)\n",
    "\n",
    "    img_large, data = img_creater(x_all[i])\n",
    "\n",
    "    img_path = os.path.join(l_dir, f\"{label}_{i}.png\")\n",
    "    cv2.imwrite(img_path, img_large)\n",
    "\n",
    "    data[0] = img_path\n",
    "    data_frame.loc[i] = data\n",
    "    if i==5:\n",
    "        break\n",
    "\n",
    "data_frame.to_csv('mnist_img_enlarged_bb.csv')"
   ]
  },
  {
   "cell_type": "code",
   "execution_count": null,
   "metadata": {},
   "outputs": [],
   "source": []
  },
  {
   "cell_type": "code",
   "execution_count": 44,
   "metadata": {},
   "outputs": [],
   "source": [
    "data_frame = pd.DataFrame(columns=['path', 'height', 'width', 'x_min', 'x_max', 'y_min', 'y_max'])\n"
   ]
  },
  {
   "cell_type": "code",
   "execution_count": 45,
   "metadata": {},
   "outputs": [],
   "source": [
    "data_frame.loc[0] = [1,2,3,4,5,6,7]"
   ]
  },
  {
   "cell_type": "code",
   "execution_count": 46,
   "metadata": {},
   "outputs": [
    {
     "name": "stdout",
     "output_type": "stream",
     "text": [
      "   path  height  width  x_min  x_max  y_min  y_max\n",
      "0     1       2      3      4      5      6      7\n"
     ]
    }
   ],
   "source": [
    "print(data_frame)"
   ]
  },
  {
   "cell_type": "code",
   "execution_count": 4,
   "metadata": {},
   "outputs": [],
   "source": [
    "\n",
    "img_gr = cv2.cvtColor(img, cv2.COLOR_RGB2GRAY)"
   ]
  },
  {
   "cell_type": "code",
   "execution_count": null,
   "metadata": {},
   "outputs": [],
   "source": []
  },
  {
   "cell_type": "code",
   "execution_count": null,
   "metadata": {},
   "outputs": [
    {
     "name": "stdout",
     "output_type": "stream",
     "text": [
      "['0', '1', '2', '3', '4', '5', '6', '7', '8', '9']\n"
     ]
    }
   ],
   "source": [
    "labels = os.listdir(dataset_path)\n",
    "print(labels)\n",
    "\n",
    "target_path = r'C:\\Users\\Siddhartha Devan V\\jupyter ml\\mnist_bounding_boxes\\mnist_img_with_bb'\n"
   ]
  },
  {
   "cell_type": "code",
   "execution_count": 10,
   "metadata": {},
   "outputs": [],
   "source": [
    "struct_b = cv2.rectangle(struct, (x_min, y_min), (x_max, y_max), color = (255, 0,0))"
   ]
  },
  {
   "cell_type": "code",
   "execution_count": 11,
   "metadata": {},
   "outputs": [
    {
     "data": {
      "text/plain": [
       "<matplotlib.image.AxesImage at 0x13f1e135de0>"
      ]
     },
     "execution_count": 11,
     "metadata": {},
     "output_type": "execute_result"
    },
    {
     "data": {
      "image/png": "[encoded data removed]",
      "text/plain": [
       "<Figure size 640x480 with 1 Axes>"
      ]
     },
     "metadata": {},
     "output_type": "display_data"
    }
   ],
   "source": [
    "plt.imshow(struct)\n"
   ]
  },
  {
   "cell_type": "code",
   "execution_count": null,
   "metadata": {},
   "outputs": [],
   "source": []
  },
  {
   "cell_type": "code",
   "execution_count": null,
   "metadata": {},
   "outputs": [],
   "source": []
  },
  {
   "cell_type": "code",
   "execution_count": null,
   "metadata": {},
   "outputs": [],
   "source": []
  }
 ],
 "metadata": {
  "kernelspec": {
   "display_name": "fcc-tf",
   "language": "python",
   "name": "python3"
  },
  "language_info": {
   "codemirror_mode": {
    "name": "ipython",
    "version": 3
   },
   "file_extension": ".py",
   "mimetype": "text/x-python",
   "name": "python",
   "nbconvert_exporter": "python",
   "pygments_lexer": "ipython3",
   "version": "3.10.15"
  }
 },
 "nbformat": 4,
 "nbformat_minor": 2
}
