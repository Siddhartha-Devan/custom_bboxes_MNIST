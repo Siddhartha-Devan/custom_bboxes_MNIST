{
 "cells": [
  {
   "cell_type": "code",
   "execution_count": 1,
   "metadata": {},
   "outputs": [],
   "source": [
    "import tensorflow as tf\n",
    "import cv2\n",
    "import pandas as pd\n",
    "import numpy as np\n",
    "import seaborn as sns\n",
    "import matplotlib.pyplot as plt\n",
    "from tensorflow.keras.layers import Layer\n",
    "from tensorflow.keras import Model\n",
    "import os\n",
    "from PIL import Image\n",
    "import random"
   ]
  },
  {
   "cell_type": "code",
   "execution_count": 2,
   "metadata": {},
   "outputs": [],
   "source": [
    "dataset_path = r'C:\\Users\\Siddhartha Devan V\\Downloads\\datasets\\mnist_images\\mnist_img_with_bb'\n",
    "bb_path = r'C:\\Users\\Siddhartha Devan V\\Downloads\\datasets\\mnist_images\\mnist_img_enlarged_bb.csv'\n",
    "labels = os.listdir(dataset_path)"
   ]
  },
  {
   "cell_type": "code",
   "execution_count": 3,
   "metadata": {},
   "outputs": [
    {
     "data": {
      "text/html": [
       "<div>\n",
       "<style scoped>\n",
       "    .dataframe tbody tr th:only-of-type {\n",
       "        vertical-align: middle;\n",
       "    }\n",
       "\n",
       "    .dataframe tbody tr th {\n",
       "        vertical-align: top;\n",
       "    }\n",
       "\n",
       "    .dataframe thead th {\n",
       "        text-align: right;\n",
       "    }\n",
       "</style>\n",
       "<table border=\"1\" class=\"dataframe\">\n",
       "  <thead>\n",
       "    <tr style=\"text-align: right;\">\n",
       "      <th></th>\n",
       "      <th>Unnamed: 0</th>\n",
       "      <th>name</th>\n",
       "      <th>target_label</th>\n",
       "      <th>height</th>\n",
       "      <th>width</th>\n",
       "      <th>x_min</th>\n",
       "      <th>x_max</th>\n",
       "      <th>y_min</th>\n",
       "      <th>y_max</th>\n",
       "    </tr>\n",
       "  </thead>\n",
       "  <tbody>\n",
       "    <tr>\n",
       "      <th>0</th>\n",
       "      <td>0</td>\n",
       "      <td>5_0.png</td>\n",
       "      <td>5</td>\n",
       "      <td>28</td>\n",
       "      <td>28</td>\n",
       "      <td>18</td>\n",
       "      <td>46</td>\n",
       "      <td>18</td>\n",
       "      <td>46</td>\n",
       "    </tr>\n",
       "    <tr>\n",
       "      <th>1</th>\n",
       "      <td>1</td>\n",
       "      <td>0_1.png</td>\n",
       "      <td>0</td>\n",
       "      <td>28</td>\n",
       "      <td>28</td>\n",
       "      <td>37</td>\n",
       "      <td>65</td>\n",
       "      <td>37</td>\n",
       "      <td>65</td>\n",
       "    </tr>\n",
       "    <tr>\n",
       "      <th>2</th>\n",
       "      <td>2</td>\n",
       "      <td>4_2.png</td>\n",
       "      <td>4</td>\n",
       "      <td>28</td>\n",
       "      <td>28</td>\n",
       "      <td>15</td>\n",
       "      <td>43</td>\n",
       "      <td>15</td>\n",
       "      <td>43</td>\n",
       "    </tr>\n",
       "    <tr>\n",
       "      <th>3</th>\n",
       "      <td>3</td>\n",
       "      <td>1_3.png</td>\n",
       "      <td>1</td>\n",
       "      <td>28</td>\n",
       "      <td>28</td>\n",
       "      <td>38</td>\n",
       "      <td>66</td>\n",
       "      <td>38</td>\n",
       "      <td>66</td>\n",
       "    </tr>\n",
       "    <tr>\n",
       "      <th>4</th>\n",
       "      <td>4</td>\n",
       "      <td>9_4.png</td>\n",
       "      <td>9</td>\n",
       "      <td>28</td>\n",
       "      <td>28</td>\n",
       "      <td>42</td>\n",
       "      <td>70</td>\n",
       "      <td>42</td>\n",
       "      <td>70</td>\n",
       "    </tr>\n",
       "    <tr>\n",
       "      <th>5</th>\n",
       "      <td>5</td>\n",
       "      <td>2_5.png</td>\n",
       "      <td>2</td>\n",
       "      <td>28</td>\n",
       "      <td>28</td>\n",
       "      <td>35</td>\n",
       "      <td>63</td>\n",
       "      <td>35</td>\n",
       "      <td>63</td>\n",
       "    </tr>\n",
       "    <tr>\n",
       "      <th>6</th>\n",
       "      <td>6</td>\n",
       "      <td>1_6.png</td>\n",
       "      <td>1</td>\n",
       "      <td>28</td>\n",
       "      <td>28</td>\n",
       "      <td>12</td>\n",
       "      <td>40</td>\n",
       "      <td>12</td>\n",
       "      <td>40</td>\n",
       "    </tr>\n",
       "    <tr>\n",
       "      <th>7</th>\n",
       "      <td>7</td>\n",
       "      <td>3_7.png</td>\n",
       "      <td>3</td>\n",
       "      <td>28</td>\n",
       "      <td>28</td>\n",
       "      <td>37</td>\n",
       "      <td>65</td>\n",
       "      <td>37</td>\n",
       "      <td>65</td>\n",
       "    </tr>\n",
       "    <tr>\n",
       "      <th>8</th>\n",
       "      <td>8</td>\n",
       "      <td>1_8.png</td>\n",
       "      <td>1</td>\n",
       "      <td>28</td>\n",
       "      <td>28</td>\n",
       "      <td>40</td>\n",
       "      <td>68</td>\n",
       "      <td>40</td>\n",
       "      <td>68</td>\n",
       "    </tr>\n",
       "    <tr>\n",
       "      <th>9</th>\n",
       "      <td>9</td>\n",
       "      <td>4_9.png</td>\n",
       "      <td>4</td>\n",
       "      <td>28</td>\n",
       "      <td>28</td>\n",
       "      <td>22</td>\n",
       "      <td>50</td>\n",
       "      <td>22</td>\n",
       "      <td>50</td>\n",
       "    </tr>\n",
       "  </tbody>\n",
       "</table>\n",
       "</div>"
      ],
      "text/plain": [
       "   Unnamed: 0     name  target_label  height  width  x_min  x_max  y_min  \\\n",
       "0           0  5_0.png             5      28     28     18     46     18   \n",
       "1           1  0_1.png             0      28     28     37     65     37   \n",
       "2           2  4_2.png             4      28     28     15     43     15   \n",
       "3           3  1_3.png             1      28     28     38     66     38   \n",
       "4           4  9_4.png             9      28     28     42     70     42   \n",
       "5           5  2_5.png             2      28     28     35     63     35   \n",
       "6           6  1_6.png             1      28     28     12     40     12   \n",
       "7           7  3_7.png             3      28     28     37     65     37   \n",
       "8           8  1_8.png             1      28     28     40     68     40   \n",
       "9           9  4_9.png             4      28     28     22     50     22   \n",
       "\n",
       "   y_max  \n",
       "0     46  \n",
       "1     65  \n",
       "2     43  \n",
       "3     66  \n",
       "4     70  \n",
       "5     63  \n",
       "6     40  \n",
       "7     65  \n",
       "8     68  \n",
       "9     50  "
      ]
     },
     "execution_count": 3,
     "metadata": {},
     "output_type": "execute_result"
    }
   ],
   "source": [
    "annotations = pd.read_csv(bb_path)\n",
    "annotations.head(10)"
   ]
  },
  {
   "cell_type": "code",
   "execution_count": 13,
   "metadata": {},
   "outputs": [
    {
     "name": "stdout",
     "output_type": "stream",
     "text": [
      "['C:\\\\Users\\\\Siddhartha Devan V\\\\Downloads\\\\datasets\\\\mnist_images\\\\mnist_img_with_bb\\\\5\\\\5_0.png', 'C:\\\\Users\\\\Siddhartha Devan V\\\\Downloads\\\\datasets\\\\mnist_images\\\\mnist_img_with_bb\\\\0\\\\0_1.png', 'C:\\\\Users\\\\Siddhartha Devan V\\\\Downloads\\\\datasets\\\\mnist_images\\\\mnist_img_with_bb\\\\4\\\\4_2.png', 'C:\\\\Users\\\\Siddhartha Devan V\\\\Downloads\\\\datasets\\\\mnist_images\\\\mnist_img_with_bb\\\\1\\\\1_3.png', 'C:\\\\Users\\\\Siddhartha Devan V\\\\Downloads\\\\datasets\\\\mnist_images\\\\mnist_img_with_bb\\\\9\\\\9_4.png']\n",
      "[array([[18, 46, 18, 46]], dtype=int64), array([[37, 65, 37, 65]], dtype=int64), array([[15, 43, 15, 43]], dtype=int64), array([[38, 66, 38, 66]], dtype=int64), array([[42, 70, 42, 70]], dtype=int64)]\n",
      "[5, 0, 4, 1, 9]\n",
      "70000 70000 70000\n"
     ]
    }
   ],
   "source": [
    "image_paths = []\n",
    "bb = []\n",
    "classes = []\n",
    "\n",
    "for img_name,img_label in zip(annotations['name'], annotations['target_label']):\n",
    "    img_path = os.path.join(dataset_path, str(img_label), img_name)\n",
    "    image_paths.append(img_path)\n",
    "    bb.append(annotations[annotations['name'] == img_name][['x_min', 'x_max', 'y_min', 'y_max']].values)\n",
    "    classes.append(img_label)\n",
    "\n",
    "print(image_paths[:5])\n",
    "print(bb[:5])\n",
    "print(classes[:5])\n",
    "\n",
    "print(len(image_paths), len(bb), len(classes))"
   ]
  },
  {
   "cell_type": "code",
   "execution_count": null,
   "metadata": {},
   "outputs": [],
   "source": []
  },
  {
   "cell_type": "code",
   "execution_count": 18,
   "metadata": {},
   "outputs": [],
   "source": [
    "from sklearn.model_selection import train_test_split\n",
    "\n",
    "image_paths_train, image_paths_test, classes_train, classes_test, bboxes_train, bboxes_test = train_test_split(\n",
    "    image_paths, classes, bb, test_size=0.2, random_state=42, stratify=classes\n",
    ")"
   ]
  },
  {
   "cell_type": "code",
   "execution_count": null,
   "metadata": {},
   "outputs": [
    {
     "name": "stdout",
     "output_type": "stream",
     "text": [
      "14000 56000\n",
      "14000 56000\n",
      "14000 56000\n"
     ]
    }
   ],
   "source": [
    "print(len(image_paths_test), len(image_paths_train))\n",
    "print(len(classes_test), len(classes_train))\n",
    "print(len(bboxes_test), len(bboxes_train))"
   ]
  },
  {
   "cell_type": "code",
   "execution_count": null,
   "metadata": {},
   "outputs": [
    {
     "name": "stdout",
     "output_type": "stream",
     "text": [
      "5522 1381\n",
      "6302 1575\n",
      "5592 1398\n",
      "5713 1428\n",
      "5459 1365\n",
      "5050 1263\n",
      "5501 1375\n",
      "5834 1459\n",
      "5460 1365\n",
      "5567 1391\n"
     ]
    }
   ],
   "source": [
    "for i in range(10):\n",
    "    print(classes_train.count(i), classes_test.count(i))"
   ]
  },
  {
   "cell_type": "code",
   "execution_count": 23,
   "metadata": {},
   "outputs": [
    {
     "data": {
      "text/plain": [
       "(70, 70, 3)"
      ]
     },
     "execution_count": 23,
     "metadata": {},
     "output_type": "execute_result"
    }
   ],
   "source": [
    "cv2.imread(image_paths[1]).shape"
   ]
  },
  {
   "cell_type": "code",
   "execution_count": 30,
   "metadata": {},
   "outputs": [
    {
     "name": "stdout",
     "output_type": "stream",
     "text": [
      "['C:\\\\Users\\\\Siddhartha Devan V\\\\Downloads\\\\datasets\\\\mnist_images\\\\mnist_img_with_bb\\\\0\\\\0_24367.png', 'C:\\\\Users\\\\Siddhartha Devan V\\\\Downloads\\\\datasets\\\\mnist_images\\\\mnist_img_with_bb\\\\7\\\\7_33964.png', 'C:\\\\Users\\\\Siddhartha Devan V\\\\Downloads\\\\datasets\\\\mnist_images\\\\mnist_img_with_bb\\\\0\\\\0_58668.png', 'C:\\\\Users\\\\Siddhartha Devan V\\\\Downloads\\\\datasets\\\\mnist_images\\\\mnist_img_with_bb\\\\9\\\\9_63075.png', 'C:\\\\Users\\\\Siddhartha Devan V\\\\Downloads\\\\datasets\\\\mnist_images\\\\mnist_img_with_bb\\\\1\\\\1_49210.png']\n"
     ]
    }
   ],
   "source": [
    "print(image_paths_train[:5])"
   ]
  },
  {
   "cell_type": "code",
   "execution_count": 36,
   "metadata": {},
   "outputs": [],
   "source": [
    "def mapper_func(image_path, label, bbox):\n",
    "    \n",
    "    img = tf.io.read_file(image_path)\n",
    "    img = tf.image.decode_image(img, channels=3)  \n",
    "    img_scaled = img/255\n",
    "    \n",
    "    return img_scaled, {'y_label': label, 'bbox': bbox}\n",
    "\n",
    "batch_size = 64\n",
    "\n",
    "train_data_gen = tf.data.Dataset.from_tensor_slices((image_paths_train, classes_train, bboxes_train))\n",
    "train_data_gen = train_data_gen.map(mapper_func, num_parallel_calls=tf.data.AUTOTUNE)\n",
    "train_dataset = train_data_gen.shuffle(buffer_size=1000).batch(batch_size).prefetch(tf.data.AUTOTUNE)\n",
    "\n",
    "test_data_gen = tf.data.Dataset.from_tensor_slices((image_paths_test, classes_test, bboxes_test))\n",
    "test_data_gen = test_data_gen.map(mapper_func, num_parallel_calls=tf.data.AUTOTUNE)\n",
    "test_dataset = test_data_gen.shuffle(buffer_size=1000).batch(batch_size).prefetch(tf.data.AUTOTUNE)\n"
   ]
  },
  {
   "cell_type": "code",
   "execution_count": 37,
   "metadata": {},
   "outputs": [
    {
     "name": "stdout",
     "output_type": "stream",
     "text": [
      "<PrefetchDataset element_spec=(TensorSpec(shape=<unknown>, dtype=tf.float32, name=None), {'y_label': TensorSpec(shape=(None,), dtype=tf.int32, name=None), 'bbox': TensorSpec(shape=(None, 1, 4), dtype=tf.int64, name=None)})>\n"
     ]
    }
   ],
   "source": [
    "print(train_dataset)"
   ]
  },
  {
   "cell_type": "code",
   "execution_count": 45,
   "metadata": {},
   "outputs": [
    {
     "name": "stdout",
     "output_type": "stream",
     "text": [
      "(64, 70, 70, 3) dict_keys(['y_label', 'bbox'])\n"
     ]
    }
   ],
   "source": [
    "for i in train_dataset.take(1):\n",
    "    print(i[0].shape, i[1].keys())"
   ]
  },
  {
   "cell_type": "code",
   "execution_count": null,
   "metadata": {},
   "outputs": [],
   "source": []
  },
  {
   "cell_type": "code",
   "execution_count": null,
   "metadata": {},
   "outputs": [],
   "source": []
  },
  {
   "cell_type": "code",
   "execution_count": null,
   "metadata": {},
   "outputs": [],
   "source": []
  },
  {
   "cell_type": "code",
   "execution_count": null,
   "metadata": {},
   "outputs": [],
   "source": []
  },
  {
   "cell_type": "code",
   "execution_count": null,
   "metadata": {},
   "outputs": [],
   "source": []
  },
  {
   "cell_type": "code",
   "execution_count": null,
   "metadata": {},
   "outputs": [],
   "source": []
  },
  {
   "cell_type": "code",
   "execution_count": null,
   "metadata": {},
   "outputs": [],
   "source": []
  },
  {
   "cell_type": "code",
   "execution_count": null,
   "metadata": {},
   "outputs": [],
   "source": []
  },
  {
   "cell_type": "code",
   "execution_count": null,
   "metadata": {},
   "outputs": [],
   "source": []
  },
  {
   "cell_type": "code",
   "execution_count": null,
   "metadata": {},
   "outputs": [],
   "source": []
  },
  {
   "cell_type": "code",
   "execution_count": null,
   "metadata": {},
   "outputs": [],
   "source": []
  }
 ],
 "metadata": {
  "kernelspec": {
   "display_name": "fcc-tf",
   "language": "python",
   "name": "python3"
  },
  "language_info": {
   "codemirror_mode": {
    "name": "ipython",
    "version": 3
   },
   "file_extension": ".py",
   "mimetype": "text/x-python",
   "name": "python",
   "nbconvert_exporter": "python",
   "pygments_lexer": "ipython3",
   "version": "3.10.15"
  }
 },
 "nbformat": 4,
 "nbformat_minor": 2
}
